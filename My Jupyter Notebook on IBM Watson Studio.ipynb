{
 "cells": [
  {
   "cell_type": "markdown",
   "metadata": {
    "collapsed": true
   },
   "source": [
    "# My Jupyter Notebook on IBM Watson Studio"
   ]
  },
  {
   "cell_type": "markdown",
   "metadata": {},
   "source": [
    "**Mohammed abu jafar - data scientist**"
   ]
  },
  {
   "cell_type": "markdown",
   "metadata": {},
   "source": [
    "*it is a field that involves using analytical and statistical techniques to extract insights and knowledge from data. Data science has become increasingly important in recent years due to the vast amounts of data being generated in virtually all domains, including business, science, and social media. As a data scientist, I would be responsible for designing and implementing processes for collecting, storing, and analyzing data, as well as communicating your findings to stakeholders. Data science is a interdisciplinary field that involves a combination of computer science, statistics, and domain-specific expertise, so it can be a rewarding and challenging career for those who enjoy solving complex problems and working with data.*"
   ]
  },
  {
   "cell_type": "markdown",
   "metadata": {},
   "source": [
    "### The code below describe how to use Math module\n",
    "* first we import the module "
   ]
  },
  {
   "cell_type": "code",
   "execution_count": 1,
   "metadata": {},
   "outputs": [],
   "source": [
    "import math"
   ]
  },
  {
   "cell_type": "markdown",
   "metadata": {},
   "source": [
    "* here we use function Cos as an example"
   ]
  },
  {
   "cell_type": "code",
   "execution_count": 2,
   "metadata": {
    "scrolled": true
   },
   "outputs": [
    {
     "data": {
      "text/plain": [
       "-0.5328330203333975"
      ]
     },
     "execution_count": 2,
     "metadata": {},
     "output_type": "execute_result"
    }
   ],
   "source": [
    "math.cos(23)"
   ]
  },
  {
   "cell_type": "markdown",
   "metadata": {},
   "source": [
    "# Summary\n",
    "\n",
    "**list of function can be used in the the math module**\n",
    "1. math.cos()  \tReturns the cosine of a number\n",
    "2. math.sin()   Returns the sine of a number\n",
    "3. math.exp()  Returns E raised to the power of x\n",
    "\n",
    "for more reading you can click this [link](https://www.w3schools.com/python/module_math.asp)\n",
    "\n",
    "\n",
    "I want to think :\n",
    "- all of you reading this fabulas thing \n",
    "-  even thos who didn't opened the file \n",
    "- my wife for supporting all tims\n",
    "\n",
    "that's it\n",
    "\n",
    "![](http://i.imgur.com/OUkLi.gif)\n",
    "\n",
    "\n"
   ]
  }
 ],
 "metadata": {
  "kernelspec": {
   "display_name": "Python 3.10",
   "language": "python",
   "name": "python3"
  },
  "language_info": {
   "codemirror_mode": {
    "name": "ipython",
    "version": 3
   },
   "file_extension": ".py",
   "mimetype": "text/x-python",
   "name": "python",
   "nbconvert_exporter": "python",
   "pygments_lexer": "ipython3",
   "version": "3.10.6"
  }
 },
 "nbformat": 4,
 "nbformat_minor": 1
}
