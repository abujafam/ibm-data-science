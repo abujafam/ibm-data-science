{
 "cells": [
  {
   "cell_type": "markdown",
   "metadata": {},
   "source": [
    "## Honors Peer-graded Assignment: Advanced SQL for Data Engineers\n",
    "\n",
    "\n",
    "My submission : mohammed abu jaafar \n"
   ]
  },
  {
   "cell_type": "code",
   "execution_count": 96,
   "metadata": {},
   "outputs": [],
   "source": [
    "# These libraries are pre-installed in SN Labs. If running in another environment please uncomment lines below to install them:\n",
    "# !pip install --force-reinstall ibm_db==3.1.0 ibm_db_sa==0.3.3\n",
    "# Ensure we don't load_ext with sqlalchemy>=1.4 (incompadible)\n",
    "# !pip uninstall sqlalchemy==1.4 -y && pip install sqlalchemy==1.3.24\n",
    "# !pip install ipython-sql"
   ]
  },
  {
   "cell_type": "code",
   "execution_count": 84,
   "metadata": {},
   "outputs": [
    {
     "name": "stdout",
     "output_type": "stream",
     "text": [
      "The sql extension is already loaded. To reload it, use:\n",
      "  %reload_ext sql\n"
     ]
    }
   ],
   "source": [
    "%load_ext sql"
   ]
  },
  {
   "cell_type": "code",
   "execution_count": 85,
   "metadata": {},
   "outputs": [
    {
     "data": {
      "text/plain": [
       "'Connected: qfh63100@BLUDB'"
      ]
     },
     "execution_count": 85,
     "metadata": {},
     "output_type": "execute_result"
    }
   ],
   "source": [
    "# Remember the connection string is of the format:\n",
    "# %sql ibm_db_sa://my-username:my-password@my-hostname:my-port/my-db-name?security=SSL\n",
    "# Enter the connection string for your Db2 on Cloud database instance below\n",
    "%sql ibm_db_sa://qfh63100:y2ctce02XuBTGUv4@824dfd4d-99de-440d-9991-629c01b3832d.bs2io90l08kqb1od8lcg.databases.appdomain.cloud:30119/BLUDB?security=SSL"
   ]
  },
  {
   "cell_type": "markdown",
   "metadata": {},
   "source": [
    "## Exercise 1: Using Joins\n",
    "\n",
    "### Question 1\n",
    "Write and execute a SQL query to list the school names, community names and average attendance for communities with a hardship index of 98\n",
    "\n",
    "\n"
   ]
  },
  {
   "cell_type": "code",
   "execution_count": 86,
   "metadata": {},
   "outputs": [
    {
     "name": "stdout",
     "output_type": "stream",
     "text": [
      " * ibm_db_sa://qfh63100:***@824dfd4d-99de-440d-9991-629c01b3832d.bs2io90l08kqb1od8lcg.databases.appdomain.cloud:30119/BLUDB\n",
      "Done.\n"
     ]
    },
    {
     "data": {
      "text/html": [
       "<table>\n",
       "    <thead>\n",
       "        <tr>\n",
       "            <th>name_of_school</th>\n",
       "            <th>community_area_name</th>\n",
       "            <th>average_student_attendance</th>\n",
       "            <th>hardship_index</th>\n",
       "        </tr>\n",
       "    </thead>\n",
       "    <tbody>\n",
       "        <tr>\n",
       "            <td>George Washington Carver Military Academy High School</td>\n",
       "            <td>RIVERDALE</td>\n",
       "            <td>91.60%</td>\n",
       "            <td>98</td>\n",
       "        </tr>\n",
       "        <tr>\n",
       "            <td>George Washington Carver Primary School</td>\n",
       "            <td>RIVERDALE</td>\n",
       "            <td>90.90%</td>\n",
       "            <td>98</td>\n",
       "        </tr>\n",
       "        <tr>\n",
       "            <td>Ira F Aldridge Elementary School</td>\n",
       "            <td>RIVERDALE</td>\n",
       "            <td>92.90%</td>\n",
       "            <td>98</td>\n",
       "        </tr>\n",
       "        <tr>\n",
       "            <td>William E B Dubois Elementary School</td>\n",
       "            <td>RIVERDALE</td>\n",
       "            <td>93.30%</td>\n",
       "            <td>98</td>\n",
       "        </tr>\n",
       "    </tbody>\n",
       "</table>"
      ],
      "text/plain": [
       "[('George Washington Carver Military Academy High School', 'RIVERDALE', '91.60%', 98),\n",
       " ('George Washington Carver Primary School', 'RIVERDALE', '90.90%', 98),\n",
       " ('Ira F Aldridge Elementary School', 'RIVERDALE', '92.90%', 98),\n",
       " ('William E B Dubois Elementary School', 'RIVERDALE', '93.30%', 98)]"
      ]
     },
     "execution_count": 86,
     "metadata": {},
     "output_type": "execute_result"
    }
   ],
   "source": [
    "%%sql\n",
    "select S.NAME_OF_SCHOOl, S.COMMUNITY_AREA_NAME, S.AVERAGE_STUDENT_ATTENDANCE, CS.HARDSHIP_INDEX\n",
    "FROM CHICAGOSCHOOLS S LEFT JOIN  CHICAGOCENSUS CS ON  S.COMMUNITY_AREA_NUMBER =CS.COMMUNITY_AREA_NUMBER \n",
    "WHERE CS.HARDSHIP_INDEX = 98\n"
   ]
  },
  {
   "cell_type": "markdown",
   "metadata": {},
   "source": [
    "### Question 2\n",
    " \n",
    "\n",
    "Write and execute a SQL query to list all crimes that took place at a school. Include case number, crime type and community name.\n"
   ]
  },
  {
   "cell_type": "code",
   "execution_count": 87,
   "metadata": {},
   "outputs": [
    {
     "name": "stdout",
     "output_type": "stream",
     "text": [
      " * ibm_db_sa://qfh63100:***@824dfd4d-99de-440d-9991-629c01b3832d.bs2io90l08kqb1od8lcg.databases.appdomain.cloud:30119/BLUDB\n",
      "Done.\n"
     ]
    },
    {
     "data": {
      "text/html": [
       "<table>\n",
       "    <thead>\n",
       "        <tr>\n",
       "            <th>case_number</th>\n",
       "            <th>primary_type</th>\n",
       "            <th>community_area_name</th>\n",
       "        </tr>\n",
       "    </thead>\n",
       "    <tbody>\n",
       "        <tr>\n",
       "            <td>HK577020</td>\n",
       "            <td>NARCOTICS</td>\n",
       "            <td>Rogers Park</td>\n",
       "        </tr>\n",
       "        <tr>\n",
       "            <td>HL725506</td>\n",
       "            <td>BATTERY</td>\n",
       "            <td>Lincoln Square</td>\n",
       "        </tr>\n",
       "        <tr>\n",
       "            <td>HH639427</td>\n",
       "            <td>BATTERY</td>\n",
       "            <td>Austin</td>\n",
       "        </tr>\n",
       "        <tr>\n",
       "            <td>HS200939</td>\n",
       "            <td>CRIMINAL DAMAGE</td>\n",
       "            <td>Austin</td>\n",
       "        </tr>\n",
       "        <tr>\n",
       "            <td>HT315369</td>\n",
       "            <td>ASSAULT</td>\n",
       "            <td>East Garfield Park</td>\n",
       "        </tr>\n",
       "        <tr>\n",
       "            <td>HP716225</td>\n",
       "            <td>BATTERY</td>\n",
       "            <td>Douglas</td>\n",
       "        </tr>\n",
       "        <tr>\n",
       "            <td>HL353697</td>\n",
       "            <td>BATTERY</td>\n",
       "            <td>South Shore</td>\n",
       "        </tr>\n",
       "        <tr>\n",
       "            <td>HS305355</td>\n",
       "            <td>NARCOTICS</td>\n",
       "            <td>Brighton Park</td>\n",
       "        </tr>\n",
       "        <tr>\n",
       "            <td>JA460432</td>\n",
       "            <td>BATTERY</td>\n",
       "            <td>Ashburn</td>\n",
       "        </tr>\n",
       "        <tr>\n",
       "            <td>HR585012</td>\n",
       "            <td>CRIMINAL TRESPA</td>\n",
       "            <td>Ashburn</td>\n",
       "        </tr>\n",
       "        <tr>\n",
       "            <td>HH292682</td>\n",
       "            <td>PUBLIC PEACE VI</td>\n",
       "            <td>None</td>\n",
       "        </tr>\n",
       "        <tr>\n",
       "            <td>G635735</td>\n",
       "            <td>PUBLIC PEACE VI</td>\n",
       "            <td>None</td>\n",
       "        </tr>\n",
       "    </tbody>\n",
       "</table>"
      ],
      "text/plain": [
       "[('HK577020', 'NARCOTICS', 'Rogers Park'),\n",
       " ('HL725506', 'BATTERY', 'Lincoln Square'),\n",
       " ('HH639427', 'BATTERY', 'Austin'),\n",
       " ('HS200939', 'CRIMINAL DAMAGE', 'Austin'),\n",
       " ('HT315369', 'ASSAULT', 'East Garfield Park'),\n",
       " ('HP716225', 'BATTERY', 'Douglas'),\n",
       " ('HL353697', 'BATTERY', 'South Shore'),\n",
       " ('HS305355', 'NARCOTICS', 'Brighton Park'),\n",
       " ('JA460432', 'BATTERY', 'Ashburn'),\n",
       " ('HR585012', 'CRIMINAL TRESPA', 'Ashburn'),\n",
       " ('HH292682', 'PUBLIC PEACE VI', None),\n",
       " ('G635735', 'PUBLIC PEACE VI', None)]"
      ]
     },
     "execution_count": 87,
     "metadata": {},
     "output_type": "execute_result"
    }
   ],
   "source": [
    "%%sql\n",
    "SELECT C.CASE_NUMBER, C.PRIMARY_TYPE, CS.COMMUNITY_AREA_NAME \n",
    "FROM CRIME C LEFT OUTER JOIN CHICAGOCENSUS CS \n",
    "ON C.COMMUNITY_AREA_NUMBER = CS.COMMUNITY_AREA_NUMBER \n",
    "WHERE C.LOCATION_DESCRIPTION LIKE '%SCHOOL%'\n"
   ]
  },
  {
   "cell_type": "markdown",
   "metadata": {},
   "source": [
    "## Exercise 2: Creating a View\n",
    "For privacy reasons, you have been asked to create a view that enables users to select just the school name and the icon fields from the CHICAGO_PUBLIC_SCHOOLS table. By providing a view, you can ensure that users cannot see the actual scores given to a school, just the icon associated with their score. You should define new names for the view columns to obscure the use of scores and icons in the original table.\n",
    "\n",
    "### Question 1\n",
    "Write and execute a SQL statement to create a view showing the columns listed in the following table, with new column names as shown in the second column.\n",
    " Column name in CHICAGO_PUBLIC_SCHOOLS\tColumn name in view\n"
   ]
  },
  {
   "cell_type": "code",
   "execution_count": 88,
   "metadata": {},
   "outputs": [
    {
     "name": "stdout",
     "output_type": "stream",
     "text": [
      " * ibm_db_sa://qfh63100:***@824dfd4d-99de-440d-9991-629c01b3832d.bs2io90l08kqb1od8lcg.databases.appdomain.cloud:30119/BLUDB\n",
      "Done.\n"
     ]
    },
    {
     "data": {
      "text/plain": [
       "[]"
      ]
     },
     "execution_count": 88,
     "metadata": {},
     "output_type": "execute_result"
    }
   ],
   "source": [
    "%%sql \n",
    "DROP VIEW SCHOOL_VIEW"
   ]
  },
  {
   "cell_type": "code",
   "execution_count": 89,
   "metadata": {},
   "outputs": [
    {
     "name": "stdout",
     "output_type": "stream",
     "text": [
      " * ibm_db_sa://qfh63100:***@824dfd4d-99de-440d-9991-629c01b3832d.bs2io90l08kqb1od8lcg.databases.appdomain.cloud:30119/BLUDB\n",
      "Done.\n"
     ]
    },
    {
     "data": {
      "text/plain": [
       "[]"
      ]
     },
     "execution_count": 89,
     "metadata": {},
     "output_type": "execute_result"
    }
   ],
   "source": [
    "%%sql \n",
    "\n",
    "CREATE VIEW SCHOOL_VIEW(School_Name, Safety_Rating,Family_Rating,Environment_Rating,Instruction_Rating,Leaders_Rating,Teachers_Rating) \n",
    "AS SELECT NAME_OF_SCHOOL,Safety_Icon,Family_Involvement_Icon, Environment_Icon,  Instruction_Icon, Leaders_Icon, Teachers_Icon \n",
    "FROM CHICAGOSCHOOLS;\n"
   ]
  },
  {
   "cell_type": "code",
   "execution_count": 90,
   "metadata": {},
   "outputs": [
    {
     "name": "stdout",
     "output_type": "stream",
     "text": [
      " * ibm_db_sa://qfh63100:***@824dfd4d-99de-440d-9991-629c01b3832d.bs2io90l08kqb1od8lcg.databases.appdomain.cloud:30119/BLUDB\n",
      "Done.\n"
     ]
    },
    {
     "data": {
      "text/html": [
       "<table>\n",
       "    <thead>\n",
       "        <tr>\n",
       "            <th>colname</th>\n",
       "            <th>typename</th>\n",
       "        </tr>\n",
       "    </thead>\n",
       "    <tbody>\n",
       "        <tr>\n",
       "            <td>SCHOOL_NAME</td>\n",
       "            <td>VARCHAR</td>\n",
       "        </tr>\n",
       "        <tr>\n",
       "            <td>SAFETY_RATING</td>\n",
       "            <td>VARCHAR</td>\n",
       "        </tr>\n",
       "        <tr>\n",
       "            <td>FAMILY_RATING</td>\n",
       "            <td>VARCHAR</td>\n",
       "        </tr>\n",
       "        <tr>\n",
       "            <td>ENVIRONMENT_RATING</td>\n",
       "            <td>VARCHAR</td>\n",
       "        </tr>\n",
       "        <tr>\n",
       "            <td>INSTRUCTION_RATING</td>\n",
       "            <td>VARCHAR</td>\n",
       "        </tr>\n",
       "        <tr>\n",
       "            <td>LEADERS_RATING</td>\n",
       "            <td>VARCHAR</td>\n",
       "        </tr>\n",
       "        <tr>\n",
       "            <td>TEACHERS_RATING</td>\n",
       "            <td>VARCHAR</td>\n",
       "        </tr>\n",
       "    </tbody>\n",
       "</table>"
      ],
      "text/plain": [
       "[('SCHOOL_NAME', 'VARCHAR'),\n",
       " ('SAFETY_RATING', 'VARCHAR'),\n",
       " ('FAMILY_RATING', 'VARCHAR'),\n",
       " ('ENVIRONMENT_RATING', 'VARCHAR'),\n",
       " ('INSTRUCTION_RATING', 'VARCHAR'),\n",
       " ('LEADERS_RATING', 'VARCHAR'),\n",
       " ('TEACHERS_RATING', 'VARCHAR')]"
      ]
     },
     "execution_count": 90,
     "metadata": {},
     "output_type": "execute_result"
    }
   ],
   "source": [
    "%%sql  --Write and execute a SQL statement that returns all of the columns from the view.\n",
    "select COLNAME, TYPENAME from SYSCAT.COLUMNS WHERE TABNAME = 'SCHOOL_VIEW'"
   ]
  },
  {
   "cell_type": "code",
   "execution_count": 91,
   "metadata": {},
   "outputs": [
    {
     "name": "stdout",
     "output_type": "stream",
     "text": [
      " * ibm_db_sa://qfh63100:***@824dfd4d-99de-440d-9991-629c01b3832d.bs2io90l08kqb1od8lcg.databases.appdomain.cloud:30119/BLUDB\n",
      "Done.\n"
     ]
    },
    {
     "data": {
      "text/html": [
       "<table>\n",
       "    <thead>\n",
       "        <tr>\n",
       "            <th>school_name</th>\n",
       "            <th>leaders_rating</th>\n",
       "        </tr>\n",
       "    </thead>\n",
       "    <tbody>\n",
       "        <tr>\n",
       "            <td>Abraham Lincoln Elementary School</td>\n",
       "            <td>Weak</td>\n",
       "        </tr>\n",
       "        <tr>\n",
       "            <td>Adam Clayton Powell Paideia Community Academy Elementary School</td>\n",
       "            <td>Weak</td>\n",
       "        </tr>\n",
       "        <tr>\n",
       "            <td>Adlai E Stevenson Elementary School</td>\n",
       "            <td>Weak</td>\n",
       "        </tr>\n",
       "        <tr>\n",
       "            <td>Agustin Lara Elementary Academy</td>\n",
       "            <td>Weak</td>\n",
       "        </tr>\n",
       "        <tr>\n",
       "            <td>Air Force Academy High School</td>\n",
       "            <td>Weak</td>\n",
       "        </tr>\n",
       "    </tbody>\n",
       "</table>"
      ],
      "text/plain": [
       "[('Abraham Lincoln Elementary School', 'Weak'),\n",
       " ('Adam Clayton Powell Paideia Community Academy Elementary School', 'Weak'),\n",
       " ('Adlai E Stevenson Elementary School', 'Weak'),\n",
       " ('Agustin Lara Elementary Academy', 'Weak'),\n",
       " ('Air Force Academy High School', 'Weak')]"
      ]
     },
     "execution_count": 91,
     "metadata": {},
     "output_type": "execute_result"
    }
   ],
   "source": [
    "%%sql\n",
    "--Write and execute a SQL statement that returns just the school name and leaders rating from the view\n",
    "select school_name,leaders_rating FROM SCHOOL_VIEW LIMIT 5"
   ]
  },
  {
   "cell_type": "markdown",
   "metadata": {},
   "source": [
    "## Exercise 3: Creating a Stored Procedure\n",
    "### Question 1\n",
    "Write the structure of a query to create or replace a stored procedure called UPDATE_LEADERS_SCORE that takes a in_School_ID parameter as an integer and a in_Leader_Score parameter as an integer. Don’t forget to use the #SET TERMINATOR statement to use the @ for the CREATE statement terminator."
   ]
  },
  {
   "cell_type": "markdown",
   "metadata": {},
   "source": [
    "### Question 2\n",
    "Inside your stored procedure, write a SQL statement to update the Leaders_Score field in the CHICAGO_PUBLIC_SCHOOLS table for the school identified by in_School_ID to the value in the in_Leader_Score parameter.\n",
    "Take a screenshot showing the SQL query."
   ]
  },
  {
   "cell_type": "markdown",
   "metadata": {},
   "source": [
    "### Question 3\n",
    "Inside your stored procedure, write a SQL IF statement to update the Leaders_Icon field in the CHICAGO_PUBLIC_SCHOOLS table for the school identified by in_School_ID using the following information.\n",
    "\n",
    "\n"
   ]
  },
  {
   "cell_type": "code",
   "execution_count": 92,
   "metadata": {},
   "outputs": [
    {
     "name": "stdout",
     "output_type": "stream",
     "text": [
      " * ibm_db_sa://qfh63100:***@824dfd4d-99de-440d-9991-629c01b3832d.bs2io90l08kqb1od8lcg.databases.appdomain.cloud:30119/BLUDB\n",
      "(ibm_db_dbi.ProgrammingError) ibm_db_dbi::ProgrammingError: Statement Execute Failed: [IBM][CLI Driver][DB2/LINUXX8664] SQL0206N  \"RETCODE\" is not valid in the context where it is used.  LINE NUMBER=32.  SQLSTATE=42703 SQLCODE=-206\n",
      "[SQL: --#SET TERMINATOR @\n",
      "CREATE OR REPLACE PROCEDURE UPDATE_LEADERS_SCORE (\n",
      "    IN in_School_ID  INTEGER, IN in_Leader_Score INTEGER) \n",
      "LANGUAGE SQL \n",
      "MODIFIES SQL DATA\n",
      "  BEGIN\n",
      "    UPDATE \"CHICAGOSCHOOLS\"\n",
      "    SET Leaders_Score = in_Leader_Score\n",
      "    WHERE School_ID = in_School_ID;\n",
      "    IF in_Leader_Score >=  80 THEN \n",
      "        UPDATE \"CHICAGOSCHOOLS\"\n",
      "        SET Leaders_Icon = 'Very_Strong'\n",
      "        WHERE School_ID = in_School_ID;\n",
      "    ELSEIF in_Leader_Score>= 60 and in_Leader_Score <= 79  THEN\n",
      "        UPDATE \"CHICAGOSCHOOLS\"\n",
      "        SET Leaders_Icon = 'Strong'\n",
      "        WHERE School_ID = in_School_ID;\n",
      "    ELSEIF in_Leader_Score >=  40 and in_Leader_Score <= 59  THEN\n",
      "        UPDATE \"CHICAGOSCHOOLS\"\n",
      "        SET Leaders_Icon = 'Average'\n",
      "        WHERE School_ID = in_School_ID;\n",
      "    ELSEIF in_Leader_Score >=  20 and in_Leader_Score <= 39  THEN\n",
      "        UPDATE \"CHICAGOSCHOOLS\"\n",
      "        SET Leaders_Icon = 'Weak'\n",
      "        WHERE School_ID = in_School_ID;\n",
      "    ELSE\n",
      "        UPDATE \"CHICAGOSCHOOLS\"\n",
      "        SET Leaders_Icon = 'Very Weak'\n",
      "        WHERE School_ID = in_School_ID;\n",
      "    END IF;\n",
      " \n",
      "        IF retcode < 0 THEN                                  --  SQLCODE returns negative value for error, zero for success, positive value for warning\n",
      "      ROLLBACK WORK;\n",
      "        \n",
      "     ELSE\n",
      "        COMMIT WORK;\n",
      "        \n",
      "      END IF;\n",
      " \n",
      " \n",
      " \n",
      " END \n",
      "  @]\n",
      "(Background on this error at: http://sqlalche.me/e/13/f405)\n"
     ]
    }
   ],
   "source": [
    "%%sql\n",
    "--#SET TERMINATOR @\n",
    "CREATE OR REPLACE PROCEDURE UPDATE_LEADERS_SCORE (\n",
    "    IN in_School_ID  INTEGER, IN in_Leader_Score INTEGER) \n",
    "LANGUAGE SQL \n",
    "MODIFIES SQL DATA\n",
    "  BEGIN\n",
    "    UPDATE \"CHICAGOSCHOOLS\"\n",
    "    SET Leaders_Score = in_Leader_Score\n",
    "    WHERE School_ID = in_School_ID;\n",
    "    IF in_Leader_Score >=  80 THEN \n",
    "        UPDATE \"CHICAGOSCHOOLS\"\n",
    "        SET Leaders_Icon = 'Very_Strong'\n",
    "        WHERE School_ID = in_School_ID;\n",
    "    ELSEIF in_Leader_Score>= 60 and in_Leader_Score <= 79  THEN\n",
    "        UPDATE \"CHICAGOSCHOOLS\"\n",
    "        SET Leaders_Icon = 'Strong'\n",
    "        WHERE School_ID = in_School_ID;\n",
    "    ELSEIF in_Leader_Score >=  40 and in_Leader_Score <= 59  THEN\n",
    "        UPDATE \"CHICAGOSCHOOLS\"\n",
    "        SET Leaders_Icon = 'Average'\n",
    "        WHERE School_ID = in_School_ID;\n",
    "    ELSEIF in_Leader_Score >=  20 and in_Leader_Score <= 39  THEN\n",
    "        UPDATE \"CHICAGOSCHOOLS\"\n",
    "        SET Leaders_Icon = 'Weak'\n",
    "        WHERE School_ID = in_School_ID;\n",
    "    ELSE\n",
    "        UPDATE \"CHICAGOSCHOOLS\"\n",
    "        SET Leaders_Icon = 'Very Weak'\n",
    "        WHERE School_ID = in_School_ID;\n",
    "    END IF;\n",
    " \n",
    "        IF retcode < 0 THEN                                  --  SQLCODE returns negative value for error, zero for success, positive value for warning\n",
    "      ROLLBACK WORK;\n",
    "        \n",
    "     ELSE\n",
    "        COMMIT WORK;\n",
    "        \n",
    "      END IF;\n",
    " \n",
    " \n",
    " \n",
    " END \n",
    "  @\n",
    "  "
   ]
  },
  {
   "cell_type": "markdown",
   "metadata": {},
   "source": [
    "### Question 4\n",
    " * Run your code to create the stored procedure.\n",
    " \n",
    "**Take a screenshot showing the SQL query and its results.**\n",
    "\n",
    "* Write a query to call the stored procedure, passing a valid school ID and a leader score of 50, to check that the procedure works as expected."
   ]
  },
  {
   "cell_type": "code",
   "execution_count": 93,
   "metadata": {},
   "outputs": [
    {
     "name": "stdout",
     "output_type": "stream",
     "text": [
      " * ibm_db_sa://qfh63100:***@824dfd4d-99de-440d-9991-629c01b3832d.bs2io90l08kqb1od8lcg.databases.appdomain.cloud:30119/BLUDB\n",
      "Done.\n"
     ]
    },
    {
     "data": {
      "text/html": [
       "<table>\n",
       "    <thead>\n",
       "        <tr>\n",
       "            <th>school_id</th>\n",
       "            <th>leaders_score</th>\n",
       "            <th>leaders_icon</th>\n",
       "        </tr>\n",
       "    </thead>\n",
       "    <tbody>\n",
       "        <tr>\n",
       "            <td>610038</td>\n",
       "            <td>38</td>\n",
       "            <td>Weak</td>\n",
       "        </tr>\n",
       "        <tr>\n",
       "            <td>609709</td>\n",
       "            <td>38</td>\n",
       "            <td>Weak</td>\n",
       "        </tr>\n",
       "        <tr>\n",
       "            <td>609861</td>\n",
       "            <td>38</td>\n",
       "            <td>Weak</td>\n",
       "        </tr>\n",
       "    </tbody>\n",
       "</table>"
      ],
      "text/plain": [
       "[(610038, '38', 'Weak'), (609709, '38', 'Weak'), (609861, '38', 'Weak')]"
      ]
     },
     "execution_count": 93,
     "metadata": {},
     "output_type": "execute_result"
    }
   ],
   "source": [
    "%%sql\n",
    "SELECT SCHOOL_ID, LEADERS_SCORE, LEADERS_ICON FROM CHICAGOSCHOOLS \n",
    "WHERE LEADERS_SCORE = '38'"
   ]
  },
  {
   "cell_type": "code",
   "execution_count": 94,
   "metadata": {},
   "outputs": [
    {
     "name": "stdout",
     "output_type": "stream",
     "text": [
      " * ibm_db_sa://qfh63100:***@824dfd4d-99de-440d-9991-629c01b3832d.bs2io90l08kqb1od8lcg.databases.appdomain.cloud:30119/BLUDB\n",
      "Done.\n",
      "Done.\n"
     ]
    },
    {
     "data": {
      "text/html": [
       "<table>\n",
       "    <thead>\n",
       "        <tr>\n",
       "            <th>school_id</th>\n",
       "            <th>leaders_score</th>\n",
       "            <th>leaders_icon</th>\n",
       "        </tr>\n",
       "    </thead>\n",
       "    <tbody>\n",
       "        <tr>\n",
       "            <td>609974</td>\n",
       "            <td>90</td>\n",
       "            <td>Very_Strong</td>\n",
       "        </tr>\n",
       "    </tbody>\n",
       "</table>"
      ],
      "text/plain": [
       "[(609974, '90', 'Very_Strong')]"
      ]
     },
     "execution_count": 94,
     "metadata": {},
     "output_type": "execute_result"
    }
   ],
   "source": [
    "%%sql\n",
    "    CALL UPDATE_LEADERS_SCORE (609974,90);\n",
    "    SELECT SCHOOL_ID, LEADERS_SCORE, LEADERS_ICON FROM CHICAGOSCHOOLS \n",
    "    WHERE LEADERS_SCORE = '90' --or LEADERS_SCORE = '101'\n"
   ]
  },
  {
   "cell_type": "markdown",
   "metadata": {},
   "source": [
    "## Exercise 4: Using Transactions\n",
    "\n",
    "### Question 1\n",
    "Update your stored procedure definition. Add a generic ELSE clause to the IF statement that rolls back the current work if the score did not fit any of the preceding categories."
   ]
  },
  {
   "cell_type": "code",
   "execution_count": 95,
   "metadata": {},
   "outputs": [
    {
     "name": "stdout",
     "output_type": "stream",
     "text": [
      " * ibm_db_sa://qfh63100:***@824dfd4d-99de-440d-9991-629c01b3832d.bs2io90l08kqb1od8lcg.databases.appdomain.cloud:30119/BLUDB\n",
      "(ibm_db_dbi.ProgrammingError) ibm_db_dbi::ProgrammingError: Statement Execute Failed: [IBM][CLI Driver][DB2/LINUXX8664] SQL0778N  End label \"@\" is not the same as the begin label.  LINE NUMBER=51.  SQLSTATE=428D5 SQLCODE=-778\n",
      "[SQL: --#SET TERMINATOR @\n",
      "CREATE OR REPLACE PROCEDURE UPDATE_LEADERS_SCORE (\n",
      "    IN in_School_ID  INTEGER, IN in_Leader_Score INTEGER) \n",
      "LANGUAGE SQL \n",
      "MODIFIES SQL DATA\n",
      "  BEGIN\n",
      " \n",
      "        DECLARE SQLCODE INTEGER DEFAULT 0;                  -- Host variable SQLCODE declared and assigned 0\n",
      "        DECLARE retcode INTEGER DEFAULT 0;                  -- Local variable retcode with declared and assigned 0\n",
      "        DECLARE CONTINUE HANDLER FOR SQLEXCEPTION           -- Handler tell the routine what to do when an error or warning occurs\n",
      "        SET retcode = SQLCODE;                              -- Value of SQLCODE assigned to local variable retcode\n",
      "        \n",
      "    UPDATE \"CHICAGOSCHOOLS\"\n",
      "    SET Leaders_Score = in_Leader_Score\n",
      "    WHERE School_ID = in_School_ID;\n",
      "    IF in_Leader_Score >=  80 THEN \n",
      "        UPDATE \"CHICAGOSCHOOLS\"\n",
      "        SET Leaders_Icon = 'Very_Strong'\n",
      "        WHERE School_ID = in_School_ID;\n",
      "    ELSEIF in_Leader_Score>= 60 and in_Leader_Score <= 79  THEN\n",
      "        UPDATE \"CHICAGOSCHOOLS\"\n",
      "        SET Leaders_Icon = 'Strong'\n",
      "        WHERE School_ID = in_School_ID;\n",
      "    ELSEIF in_Leader_Score >=  40 and in_Leader_Score <= 59  THEN\n",
      "        UPDATE \"CHICAGOSCHOOLS\"\n",
      "        SET Leaders_Icon = 'Average'\n",
      "        WHERE School_ID = in_School_ID;\n",
      "    ELSEIF in_Leader_Score >=  20 and in_Leader_Score <= 39  THEN\n",
      "        UPDATE \"CHICAGOSCHOOLS\"\n",
      "        SET Leaders_Icon = 'Weak'\n",
      "        WHERE School_ID = in_School_ID;\n",
      "    ELSE\n",
      "        UPDATE \"CHICAGOSCHOOLS\"\n",
      "        SET Leaders_Icon = 'Very Weak'\n",
      "        WHERE School_ID = in_School_ID;\n",
      "    END IF;\n",
      "  \n",
      "    IF retcode < 0 THEN                                  --  SQLCODE returns negative value for error, zero for success, positive value for warning\n",
      "      ROLLBACK WORK;\n",
      "        \n",
      "     ELSE\n",
      "        COMMIT WORK;\n",
      "        \n",
      "      END IF;\n",
      "  \n",
      "  \n",
      "  \n",
      "  \n",
      "  \n",
      "  \n",
      "  END \n",
      "  @]\n",
      "(Background on this error at: http://sqlalche.me/e/13/f405)\n"
     ]
    }
   ],
   "source": [
    "%%sql\n",
    "--#SET TERMINATOR @\n",
    "CREATE OR REPLACE PROCEDURE UPDATE_LEADERS_SCORE (\n",
    "    IN in_School_ID  INTEGER, IN in_Leader_Score INTEGER) \n",
    "LANGUAGE SQL \n",
    "MODIFIES SQL DATA\n",
    "  BEGIN\n",
    " \n",
    "        DECLARE SQLCODE INTEGER DEFAULT 0;                  -- Host variable SQLCODE declared and assigned 0\n",
    "        DECLARE retcode INTEGER DEFAULT 0;                  -- Local variable retcode with declared and assigned 0\n",
    "        DECLARE CONTINUE HANDLER FOR SQLEXCEPTION           -- Handler tell the routine what to do when an error or warning occurs\n",
    "        SET retcode = SQLCODE;                              -- Value of SQLCODE assigned to local variable retcode\n",
    "        \n",
    "    UPDATE \"CHICAGOSCHOOLS\"\n",
    "    SET Leaders_Score = in_Leader_Score\n",
    "    WHERE School_ID = in_School_ID;\n",
    "    IF in_Leader_Score >=  80 THEN \n",
    "        UPDATE \"CHICAGOSCHOOLS\"\n",
    "        SET Leaders_Icon = 'Very_Strong'\n",
    "        WHERE School_ID = in_School_ID;\n",
    "    ELSEIF in_Leader_Score>= 60 and in_Leader_Score <= 79  THEN\n",
    "        UPDATE \"CHICAGOSCHOOLS\"\n",
    "        SET Leaders_Icon = 'Strong'\n",
    "        WHERE School_ID = in_School_ID;\n",
    "    ELSEIF in_Leader_Score >=  40 and in_Leader_Score <= 59  THEN\n",
    "        UPDATE \"CHICAGOSCHOOLS\"\n",
    "        SET Leaders_Icon = 'Average'\n",
    "        WHERE School_ID = in_School_ID;\n",
    "    ELSEIF in_Leader_Score >=  20 and in_Leader_Score <= 39  THEN\n",
    "        UPDATE \"CHICAGOSCHOOLS\"\n",
    "        SET Leaders_Icon = 'Weak'\n",
    "        WHERE School_ID = in_School_ID;\n",
    "    ELSE\n",
    "        UPDATE \"CHICAGOSCHOOLS\"\n",
    "        SET Leaders_Icon = 'Very Weak'\n",
    "        WHERE School_ID = in_School_ID;\n",
    "    END IF;\n",
    "  \n",
    "    IF retcode < 0 THEN                                  --  SQLCODE returns negative value for error, zero for success, positive value for warning\n",
    "      ROLLBACK WORK;\n",
    "        \n",
    "     ELSE\n",
    "        COMMIT WORK;\n",
    "        \n",
    "      END IF;\n",
    "  \n",
    "  \n",
    "  \n",
    "  \n",
    "  \n",
    "  \n",
    "  END \n",
    "  @\n",
    "  \n"
   ]
  },
  {
   "cell_type": "markdown",
   "metadata": {},
   "source": [
    "## AUTHOR \n",
    "Mohammed abu jaafar"
   ]
  },
  {
   "cell_type": "code",
   "execution_count": null,
   "metadata": {},
   "outputs": [],
   "source": []
  },
  {
   "cell_type": "code",
   "execution_count": null,
   "metadata": {},
   "outputs": [],
   "source": []
  },
  {
   "cell_type": "code",
   "execution_count": null,
   "metadata": {},
   "outputs": [],
   "source": []
  },
  {
   "cell_type": "code",
   "execution_count": null,
   "metadata": {},
   "outputs": [],
   "source": []
  },
  {
   "cell_type": "code",
   "execution_count": null,
   "metadata": {},
   "outputs": [],
   "source": []
  },
  {
   "cell_type": "code",
   "execution_count": null,
   "metadata": {},
   "outputs": [],
   "source": []
  },
  {
   "cell_type": "code",
   "execution_count": null,
   "metadata": {},
   "outputs": [],
   "source": []
  }
 ],
 "metadata": {
  "kernelspec": {
   "display_name": "Python",
   "language": "python",
   "name": "conda-env-python-py"
  },
  "language_info": {
   "codemirror_mode": {
    "name": "ipython",
    "version": 3
   },
   "file_extension": ".py",
   "mimetype": "text/x-python",
   "name": "python",
   "nbconvert_exporter": "python",
   "pygments_lexer": "ipython3",
   "version": "3.7.12"
  }
 },
 "nbformat": 4,
 "nbformat_minor": 4
}
